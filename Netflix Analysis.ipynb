{
  "cells": [
    {
      "cell_type": "markdown",
      "metadata": {
        "id": "ViQdeQ5m1E2Z"
      },
      "source": [
        "#  Data Handling and Processing with PySpark\n",
        "\n",
        "\n",
        "In this Code, you will be analysing the popularity of films and TV shows on the streaming platform, Netflix. Using your knowledge of PySpark DataFrames and Spark SQL, you will produce a number of \"downstream\" data products to analyse trends in global streaming habits.\n",
        "\n",
        "Download the dataset from this [Kaggle](https://www.kaggle.com/dhruvildave/netflix-top-10-tv-shows-and-films) page. A copy of the `all_weeks_countries.csv` file is also available on the canvas page for this assignment.\n",
        "\n",
        "Your task is to load in the data and produce a number of \"downstream\" data products and plots as described below.\n",
        "\n",
        "The PySpark installation and setup is provided below for conveinience.\n",
        "\n",
        "IMPORTANT: DO NOT EDIT OR REMOVE THE COMMENT TAGS IN THE CODE CELLS"
      ]
    },
    {
      "cell_type": "code",
      "execution_count": null,
      "metadata": {
        "id": "5lb-Z7ZM8O3s"
      },
      "outputs": [],
      "source": [
        "\n",
        "\n",
        "\n",
        "!apt-get install openjdk-8-jdk-headless -qq > /dev/null"
      ]
    },
    {
      "cell_type": "code",
      "execution_count": null,
      "metadata": {
        "colab": {
          "base_uri": "https://localhost:8080/"
        },
        "id": "ixa72o938SKP",
        "outputId": "6edb1818-3858-462b-d0ec-3561e92f2b6b"
      },
      "outputs": [
        {
          "output_type": "stream",
          "name": "stdout",
          "text": [
            "Mounted at /content/drive\n"
          ]
        }
      ],
      "source": [
        "\n",
        "# Mount Google Drive and unpack Spark\n",
        "from google.colab import drive\n",
        "drive.mount('/content/drive')\n",
        "!tar xzf /content/drive/MyDrive/spark-3.3.0-bin-hadoop3.tgz"
      ]
    },
    {
      "cell_type": "code",
      "execution_count": null,
      "metadata": {
        "id": "yWT7_XiQ8V6u"
      },
      "outputs": [],
      "source": [
        "\n",
        "# Set up environment variables\n",
        "import os\n",
        "os.environ[\"JAVA_HOME\"] = \"/usr/lib/jvm/java-8-openjdk-amd64\"\n",
        "os.environ[\"SPARK_HOME\"] = \"/content/spark-3.3.0-bin-hadoop3\""
      ]
    },
    {
      "cell_type": "code",
      "execution_count": null,
      "metadata": {
        "id": "UPSvq-aj8Z_k"
      },
      "outputs": [],
      "source": [
        "\n",
        "# Install findspark, which helps python locate the pyspark module files\n",
        "!pip install -q findspark\n",
        "import findspark\n",
        "findspark.init()"
      ]
    },
    {
      "cell_type": "code",
      "execution_count": null,
      "metadata": {
        "id": "kXT8Q_IO8cVe"
      },
      "outputs": [],
      "source": [
        "# Finally, we initialse a \"SparkSession\", which handles the computations\n",
        "from pyspark.sql import SparkSession\n",
        "spark = SparkSession.builder\\\n",
        "        .master(\"local\")\\\n",
        "        .appName(\"Colab\")\\\n",
        "        .config('spark.ui.port', '4050')\\\n",
        "        .getOrCreate()"
      ]
    },
    {
      "cell_type": "code",
      "execution_count": null,
      "metadata": {
        "id": "nY0UxWbdDcag"
      },
      "outputs": [],
      "source": [
        "# Load the all_weeks_countries.csv into your Colab Notebook as a DataFrame.\n",
        "netflixcsvpath = '/content/all-weeks-countries.csv'\n",
        "\n",
        "# Data is loaded with header: True and an inferred schema\n",
        "netflixDF = (spark\n",
        "           .read\n",
        "           .option('header', 'True')\n",
        "           .option('inferSchema', 'True')\n",
        "           .csv(netflixcsvpath)\n",
        "          )"
      ]
    },
    {
      "cell_type": "code",
      "execution_count": null,
      "metadata": {
        "id": "adZdlbyGL7Mj"
      },
      "outputs": [],
      "source": [
        "# pyspark.sql.functions countains all the transformations and actions you will\n",
        "# need\n",
        "from pyspark.sql import functions as F\n",
        "from pyspark.sql.functions import col\n",
        "from pyspark.sql.window import Window"
      ]
    },
    {
      "cell_type": "markdown",
      "metadata": {
        "id": "yfW6RnY_GZpE"
      },
      "source": [
        "# Data Preparation\n",
        "\n",
        "\n",
        "1.   Create two separate DataFrames for Films and TV.\n",
        "2.   For the Films data, drop the column containing the season names.\n",
        "3.   For the TV data, replace any null values in the season name column with the show name."
      ]
    },
    {
      "cell_type": "code",
      "execution_count": null,
      "metadata": {
        "colab": {
          "base_uri": "https://localhost:8080/"
        },
        "id": "I7PS8iZgqwjt",
        "outputId": "0147cb65-5719-425f-9d38-7c9e69f5ce03"
      },
      "outputs": [
        {
          "output_type": "stream",
          "name": "stdout",
          "text": [
            "+------------+------------+-------------------+--------+-----------+--------------------+--------------------+--------------------------+\n",
            "|country_name|country_iso2|               week|category|weekly_rank|          show_title|        season_title|cumulative_weeks_in_top_10|\n",
            "+------------+------------+-------------------+--------+-----------+--------------------+--------------------+--------------------------+\n",
            "|   Argentina|          AR|2022-08-21 00:00:00|   Films|          1|      Look Both Ways|                null|                         1|\n",
            "|   Argentina|          AR|2022-08-21 00:00:00|   Films|          2|           Day Shift|                null|                         2|\n",
            "|   Argentina|          AR|2022-08-21 00:00:00|   Films|          3|Bank Robbers: The...|                null|                         2|\n",
            "|   Argentina|          AR|2022-08-21 00:00:00|   Films|          4|   The Next 365 Days|                null|                         1|\n",
            "|   Argentina|          AR|2022-08-21 00:00:00|   Films|          5|The Angry Birds M...|                null|                         1|\n",
            "|   Argentina|          AR|2022-08-21 00:00:00|   Films|          6|       Purple Hearts|                null|                         4|\n",
            "|   Argentina|          AR|2022-08-21 00:00:00|   Films|          7|      River Runs Red|                null|                         1|\n",
            "|   Argentina|          AR|2022-08-21 00:00:00|   Films|          8|                1917|                null|                         2|\n",
            "|   Argentina|          AR|2022-08-21 00:00:00|   Films|          9|  Code Name: Emperor|                null|                         2|\n",
            "|   Argentina|          AR|2022-08-21 00:00:00|   Films|         10|           Royalteen|                null|                         1|\n",
            "|   Argentina|          AR|2022-08-21 00:00:00|      TV|          1| Pasión de Gavilanes|Pasión de Gavilan...|                         5|\n",
            "|   Argentina|          AR|2022-08-21 00:00:00|      TV|          2|        Another Self|Another Self: Sea...|                         4|\n",
            "|   Argentina|          AR|2022-08-21 00:00:00|      TV|          3| Pasión de Gavilanes|Pasión de Gavilan...|                        58|\n",
            "|   Argentina|          AR|2022-08-21 00:00:00|      TV|          4|            Manifest|  Manifest: Season 1|                         6|\n",
            "|   Argentina|          AR|2022-08-21 00:00:00|      TV|          5|         The Sandman|The Sandman: Seas...|                         3|\n",
            "|   Argentina|          AR|2022-08-21 00:00:00|      TV|          6|Extraordinary Att...|Extraordinary Att...|                         2|\n",
            "|   Argentina|          AR|2022-08-21 00:00:00|      TV|          7|           High Heat| High Heat: Season 1|                         1|\n",
            "|   Argentina|          AR|2022-08-21 00:00:00|      TV|          8|            Manifest|  Manifest: Season 2|                         5|\n",
            "|   Argentina|          AR|2022-08-21 00:00:00|      TV|          9|            Manifest|  Manifest: Season 3|                         4|\n",
            "|   Argentina|          AR|2022-08-21 00:00:00|      TV|         10|   Never Have I Ever|Never Have I Ever...|                         2|\n",
            "+------------+------------+-------------------+--------+-----------+--------------------+--------------------+--------------------------+\n",
            "only showing top 20 rows\n",
            "\n",
            "root\n",
            " |-- country_name: string (nullable = true)\n",
            " |-- country_iso2: string (nullable = true)\n",
            " |-- week: timestamp (nullable = true)\n",
            " |-- category: string (nullable = true)\n",
            " |-- weekly_rank: integer (nullable = true)\n",
            " |-- show_title: string (nullable = true)\n",
            " |-- season_title: string (nullable = true)\n",
            " |-- cumulative_weeks_in_top_10: integer (nullable = true)\n",
            "\n"
          ]
        }
      ],
      "source": [
        "\n",
        "\n",
        "\n",
        "# Display the table and its schema\n",
        "netflixDF.show()\n",
        "\n",
        "netflixDF.printSchema()\n",
        "\n",
        "\n",
        "\n"
      ]
    },
    {
      "cell_type": "code",
      "execution_count": null,
      "metadata": {
        "colab": {
          "base_uri": "https://localhost:8080/"
        },
        "id": "qfke8sGRN5ns",
        "outputId": "f6ff8161-ea21-4c2d-dcde-946042065b0c"
      },
      "outputs": [
        {
          "output_type": "stream",
          "name": "stdout",
          "text": [
            "TV Shows DataFrame:\n",
            "+------------+------------+-------------------+--------+-----------+--------------------+--------------------+--------------------------+\n",
            "|country_name|country_iso2|               week|category|weekly_rank|          show_title|        season_title|cumulative_weeks_in_top_10|\n",
            "+------------+------------+-------------------+--------+-----------+--------------------+--------------------+--------------------------+\n",
            "|   Argentina|          AR|2022-08-21 00:00:00|      TV|          1| Pasión de Gavilanes|Pasión de Gavilan...|                         5|\n",
            "|   Argentina|          AR|2022-08-21 00:00:00|      TV|          2|        Another Self|Another Self: Sea...|                         4|\n",
            "|   Argentina|          AR|2022-08-21 00:00:00|      TV|          3| Pasión de Gavilanes|Pasión de Gavilan...|                        58|\n",
            "|   Argentina|          AR|2022-08-21 00:00:00|      TV|          4|            Manifest|  Manifest: Season 1|                         6|\n",
            "|   Argentina|          AR|2022-08-21 00:00:00|      TV|          5|         The Sandman|The Sandman: Seas...|                         3|\n",
            "|   Argentina|          AR|2022-08-21 00:00:00|      TV|          6|Extraordinary Att...|Extraordinary Att...|                         2|\n",
            "|   Argentina|          AR|2022-08-21 00:00:00|      TV|          7|           High Heat| High Heat: Season 1|                         1|\n",
            "|   Argentina|          AR|2022-08-21 00:00:00|      TV|          8|            Manifest|  Manifest: Season 2|                         5|\n",
            "|   Argentina|          AR|2022-08-21 00:00:00|      TV|          9|            Manifest|  Manifest: Season 3|                         4|\n",
            "|   Argentina|          AR|2022-08-21 00:00:00|      TV|         10|   Never Have I Ever|Never Have I Ever...|                         2|\n",
            "|   Argentina|          AR|2022-08-14 00:00:00|      TV|          1| Pasión de Gavilanes|Pasión de Gavilan...|                         4|\n",
            "|   Argentina|          AR|2022-08-14 00:00:00|      TV|          2|        Another Self|Another Self: Sea...|                         3|\n",
            "|   Argentina|          AR|2022-08-14 00:00:00|      TV|          3|         The Sandman|The Sandman: Seas...|                         2|\n",
            "|   Argentina|          AR|2022-08-14 00:00:00|      TV|          4| Pasión de Gavilanes|Pasión de Gavilan...|                        57|\n",
            "|   Argentina|          AR|2022-08-14 00:00:00|      TV|          5|            Manifest|  Manifest: Season 1|                         5|\n",
            "|   Argentina|          AR|2022-08-14 00:00:00|      TV|          6|Extraordinary Att...|Extraordinary Att...|                         1|\n",
            "|   Argentina|          AR|2022-08-14 00:00:00|      TV|          7|                Alba|      Alba: Season 1|                         5|\n",
            "|   Argentina|          AR|2022-08-14 00:00:00|      TV|          8|            Manifest|  Manifest: Season 2|                         4|\n",
            "|   Argentina|          AR|2022-08-14 00:00:00|      TV|          9|            Manifest|  Manifest: Season 3|                         3|\n",
            "|   Argentina|          AR|2022-08-14 00:00:00|      TV|         10|   Never Have I Ever|Never Have I Ever...|                         1|\n",
            "+------------+------------+-------------------+--------+-----------+--------------------+--------------------+--------------------------+\n",
            "only showing top 20 rows\n",
            "\n",
            "Films DataFrame:\n",
            "+------------+------------+-------------------+--------+-----------+--------------------+------------+--------------------------+\n",
            "|country_name|country_iso2|               week|category|weekly_rank|          show_title|season_title|cumulative_weeks_in_top_10|\n",
            "+------------+------------+-------------------+--------+-----------+--------------------+------------+--------------------------+\n",
            "|   Argentina|          AR|2022-08-21 00:00:00|   Films|          1|      Look Both Ways|        null|                         1|\n",
            "|   Argentina|          AR|2022-08-21 00:00:00|   Films|          2|           Day Shift|        null|                         2|\n",
            "|   Argentina|          AR|2022-08-21 00:00:00|   Films|          3|Bank Robbers: The...|        null|                         2|\n",
            "|   Argentina|          AR|2022-08-21 00:00:00|   Films|          4|   The Next 365 Days|        null|                         1|\n",
            "|   Argentina|          AR|2022-08-21 00:00:00|   Films|          5|The Angry Birds M...|        null|                         1|\n",
            "|   Argentina|          AR|2022-08-21 00:00:00|   Films|          6|       Purple Hearts|        null|                         4|\n",
            "|   Argentina|          AR|2022-08-21 00:00:00|   Films|          7|      River Runs Red|        null|                         1|\n",
            "|   Argentina|          AR|2022-08-21 00:00:00|   Films|          8|                1917|        null|                         2|\n",
            "|   Argentina|          AR|2022-08-21 00:00:00|   Films|          9|  Code Name: Emperor|        null|                         2|\n",
            "|   Argentina|          AR|2022-08-21 00:00:00|   Films|         10|           Royalteen|        null|                         1|\n",
            "|   Argentina|          AR|2022-08-14 00:00:00|   Films|          1|Bank Robbers: The...|        null|                         1|\n",
            "|   Argentina|          AR|2022-08-14 00:00:00|   Films|          2|       Purple Hearts|        null|                         3|\n",
            "|   Argentina|          AR|2022-08-14 00:00:00|   Films|          3|                1917|        null|                         1|\n",
            "|   Argentina|          AR|2022-08-14 00:00:00|   Films|          4|           Day Shift|        null|                         1|\n",
            "|   Argentina|          AR|2022-08-14 00:00:00|   Films|          5|  Code Name: Emperor|        null|                         1|\n",
            "|   Argentina|          AR|2022-08-14 00:00:00|   Films|          6|              Carter|        null|                         2|\n",
            "|   Argentina|          AR|2022-08-14 00:00:00|   Films|          7|          Recurrence|        null|                         3|\n",
            "|   Argentina|          AR|2022-08-14 00:00:00|   Films|          8|      Wedding Season|        null|                         2|\n",
            "|   Argentina|          AR|2022-08-14 00:00:00|   Films|          9|        Dreamkatcher|        null|                         1|\n",
            "|   Argentina|          AR|2022-08-14 00:00:00|   Films|         10|        The Gray Man|        null|                         4|\n",
            "+------------+------------+-------------------+--------+-----------+--------------------+------------+--------------------------+\n",
            "only showing top 20 rows\n",
            "\n"
          ]
        }
      ],
      "source": [
        "\n",
        "\n",
        "### Seperate the data into two DataFrames for Films and TV\n",
        "### Call the dataframes tvDF and filmsDF\n",
        "\n",
        "# Separate the data into TV shows and films DataFrames\n",
        "tvDF = netflixDF.filter(col('category') == 'TV')\n",
        "filmsDF = netflixDF.filter(col('category') == 'Films')\n",
        "\n",
        "# Display the first few rows of each DataFrame\n",
        "print(\"TV Shows DataFrame:\")\n",
        "tvDF.show()\n",
        "\n",
        "print(\"Films DataFrame:\")\n",
        "filmsDF.show()"
      ]
    },
    {
      "cell_type": "code",
      "execution_count": null,
      "metadata": {
        "colab": {
          "base_uri": "https://localhost:8080/"
        },
        "id": "X7JsDYkQN7Zw",
        "outputId": "a47c2961-a4e8-4e77-8b1b-9a543671c188"
      },
      "outputs": [
        {
          "output_type": "stream",
          "name": "stdout",
          "text": [
            "+------------+------------+-------------------+--------+-----------+--------------------+--------------------------+\n",
            "|country_name|country_iso2|               week|category|weekly_rank|          show_title|cumulative_weeks_in_top_10|\n",
            "+------------+------------+-------------------+--------+-----------+--------------------+--------------------------+\n",
            "|   Argentina|          AR|2022-08-21 00:00:00|   Films|          1|      Look Both Ways|                         1|\n",
            "|   Argentina|          AR|2022-08-21 00:00:00|   Films|          2|           Day Shift|                         2|\n",
            "|   Argentina|          AR|2022-08-21 00:00:00|   Films|          3|Bank Robbers: The...|                         2|\n",
            "|   Argentina|          AR|2022-08-21 00:00:00|   Films|          4|   The Next 365 Days|                         1|\n",
            "|   Argentina|          AR|2022-08-21 00:00:00|   Films|          5|The Angry Birds M...|                         1|\n",
            "|   Argentina|          AR|2022-08-21 00:00:00|   Films|          6|       Purple Hearts|                         4|\n",
            "|   Argentina|          AR|2022-08-21 00:00:00|   Films|          7|      River Runs Red|                         1|\n",
            "|   Argentina|          AR|2022-08-21 00:00:00|   Films|          8|                1917|                         2|\n",
            "|   Argentina|          AR|2022-08-21 00:00:00|   Films|          9|  Code Name: Emperor|                         2|\n",
            "|   Argentina|          AR|2022-08-21 00:00:00|   Films|         10|           Royalteen|                         1|\n",
            "|   Argentina|          AR|2022-08-14 00:00:00|   Films|          1|Bank Robbers: The...|                         1|\n",
            "|   Argentina|          AR|2022-08-14 00:00:00|   Films|          2|       Purple Hearts|                         3|\n",
            "|   Argentina|          AR|2022-08-14 00:00:00|   Films|          3|                1917|                         1|\n",
            "|   Argentina|          AR|2022-08-14 00:00:00|   Films|          4|           Day Shift|                         1|\n",
            "|   Argentina|          AR|2022-08-14 00:00:00|   Films|          5|  Code Name: Emperor|                         1|\n",
            "|   Argentina|          AR|2022-08-14 00:00:00|   Films|          6|              Carter|                         2|\n",
            "|   Argentina|          AR|2022-08-14 00:00:00|   Films|          7|          Recurrence|                         3|\n",
            "|   Argentina|          AR|2022-08-14 00:00:00|   Films|          8|      Wedding Season|                         2|\n",
            "|   Argentina|          AR|2022-08-14 00:00:00|   Films|          9|        Dreamkatcher|                         1|\n",
            "|   Argentina|          AR|2022-08-14 00:00:00|   Films|         10|        The Gray Man|                         4|\n",
            "+------------+------------+-------------------+--------+-----------+--------------------+--------------------------+\n",
            "only showing top 20 rows\n",
            "\n"
          ]
        }
      ],
      "source": [
        "\n",
        "\n",
        "### Drop the 'season_title' column from the Films DataFrame, display the table\n",
        "\n",
        "filmsDF = filmsDF.drop('season_title')\n",
        "filmsDF.show()"
      ]
    },
    {
      "cell_type": "code",
      "execution_count": null,
      "metadata": {
        "colab": {
          "base_uri": "https://localhost:8080/"
        },
        "id": "4M83pWB5N9Ar",
        "outputId": "c25945d8-3e3b-4670-e471-9aa37fe278a2"
      },
      "outputs": [
        {
          "output_type": "stream",
          "name": "stdout",
          "text": [
            "Updated TV Shows DataFrame:\n",
            "+------------+------------+-------------------+--------+-----------+--------------------+--------------------+--------------------------+\n",
            "|country_name|country_iso2|               week|category|weekly_rank|          show_title|        season_title|cumulative_weeks_in_top_10|\n",
            "+------------+------------+-------------------+--------+-----------+--------------------+--------------------+--------------------------+\n",
            "|   Argentina|          AR|2022-08-21 00:00:00|      TV|          1| Pasión de Gavilanes|Pasión de Gavilan...|                         5|\n",
            "|   Argentina|          AR|2022-08-21 00:00:00|      TV|          2|        Another Self|Another Self: Sea...|                         4|\n",
            "|   Argentina|          AR|2022-08-21 00:00:00|      TV|          3| Pasión de Gavilanes|Pasión de Gavilan...|                        58|\n",
            "|   Argentina|          AR|2022-08-21 00:00:00|      TV|          4|            Manifest|  Manifest: Season 1|                         6|\n",
            "|   Argentina|          AR|2022-08-21 00:00:00|      TV|          5|         The Sandman|The Sandman: Seas...|                         3|\n",
            "|   Argentina|          AR|2022-08-21 00:00:00|      TV|          6|Extraordinary Att...|Extraordinary Att...|                         2|\n",
            "|   Argentina|          AR|2022-08-21 00:00:00|      TV|          7|           High Heat| High Heat: Season 1|                         1|\n",
            "|   Argentina|          AR|2022-08-21 00:00:00|      TV|          8|            Manifest|  Manifest: Season 2|                         5|\n",
            "|   Argentina|          AR|2022-08-21 00:00:00|      TV|          9|            Manifest|  Manifest: Season 3|                         4|\n",
            "|   Argentina|          AR|2022-08-21 00:00:00|      TV|         10|   Never Have I Ever|Never Have I Ever...|                         2|\n",
            "|   Argentina|          AR|2022-08-14 00:00:00|      TV|          1| Pasión de Gavilanes|Pasión de Gavilan...|                         4|\n",
            "|   Argentina|          AR|2022-08-14 00:00:00|      TV|          2|        Another Self|Another Self: Sea...|                         3|\n",
            "|   Argentina|          AR|2022-08-14 00:00:00|      TV|          3|         The Sandman|The Sandman: Seas...|                         2|\n",
            "|   Argentina|          AR|2022-08-14 00:00:00|      TV|          4| Pasión de Gavilanes|Pasión de Gavilan...|                        57|\n",
            "|   Argentina|          AR|2022-08-14 00:00:00|      TV|          5|            Manifest|  Manifest: Season 1|                         5|\n",
            "|   Argentina|          AR|2022-08-14 00:00:00|      TV|          6|Extraordinary Att...|Extraordinary Att...|                         1|\n",
            "|   Argentina|          AR|2022-08-14 00:00:00|      TV|          7|                Alba|      Alba: Season 1|                         5|\n",
            "|   Argentina|          AR|2022-08-14 00:00:00|      TV|          8|            Manifest|  Manifest: Season 2|                         4|\n",
            "|   Argentina|          AR|2022-08-14 00:00:00|      TV|          9|            Manifest|  Manifest: Season 3|                         3|\n",
            "|   Argentina|          AR|2022-08-14 00:00:00|      TV|         10|   Never Have I Ever|Never Have I Ever...|                         1|\n",
            "+------------+------------+-------------------+--------+-----------+--------------------+--------------------+--------------------------+\n",
            "only showing top 20 rows\n",
            "\n"
          ]
        }
      ],
      "source": [
        "\n",
        "\n",
        "### Use the F.isnull function to create a column showing where there are null\n",
        "### values in the 'season_title' column. Replace the null values with the\n",
        "### corresponding value from the 'show_title' column, then replace the\n",
        "### 'season_title' column in the tvDF DataFrame.\n",
        "\n",
        "tvDF = tvDF.withColumn('season_title_null',F.isnull('season_title'))\n",
        "\n",
        "# Replace null values in 'season_title' with corresponding values from 'show_title'\n",
        "tvDF = tvDF.withColumn('season_title', F.when(col('season_title_null'), col('show_title')).otherwise(col('season_title')))\n",
        "\n",
        "# Drop the 'season_title_null' column\n",
        "tvDF = tvDF.drop('season_title_null')\n",
        "\n",
        "# Display the updated TV Shows DataFrame\n",
        "print(\"Updated TV Shows DataFrame:\")\n",
        "tvDF.show()\n"
      ]
    },
    {
      "cell_type": "markdown",
      "metadata": {
        "id": "rAHZm5_9IzTn"
      },
      "source": [
        "# Part 2\n",
        "\n",
        "Making use of the \"groupBy\" and \"where\" methods, find the number of weeks the show \"Stranger Things\" was in the Top 10 for the United Kingdom across all seasons. Store your result in a variable named \"STWeeks\"\n"
      ]
    },
    {
      "cell_type": "code",
      "execution_count": null,
      "metadata": {
        "colab": {
          "base_uri": "https://localhost:8080/"
        },
        "id": "68QRfnJsvIdt",
        "outputId": "564aebee-8529-418a-cf27-6fe1cc24956a"
      },
      "outputs": [
        {
          "output_type": "stream",
          "name": "stdout",
          "text": [
            "Total Number of Weeks Stranger Things Spent in the Top 10 in the UK: 13\n"
          ]
        }
      ],
      "source": [
        "\n",
        "### Use the \"where\" method to create a new dataframe containing the data for\n",
        "### the show Stranger Things in the Uniter Kingdom. Call this dataframe STDF.\n",
        "\n",
        "STDF = (\n",
        "    tvDF\n",
        "    .where((F.col('show_title') == 'Stranger Things') & (F.col('country_name') == 'United Kingdom'))\n",
        "    .groupBy('show_title')\n",
        "    .agg(F.countDistinct('week').alias('total_weeks_in_top10'))\n",
        ")\n",
        "\n",
        "STWeeks = STDF.first()['total_weeks_in_top10']\n",
        "\n",
        "print(\"Total Number of Weeks Stranger Things Spent in the Top 10 in the UK:\", STWeeks)\n",
        "\n",
        "\n"
      ]
    },
    {
      "cell_type": "markdown",
      "metadata": {
        "id": "o1i0AYsUzfOl"
      },
      "source": [
        "# Part 3\n",
        "\n",
        "Produce a dataframe containing only the Top 25 TV seasons in the UK, based on the number of weeks they spent in the Top 10."
      ]
    },
    {
      "cell_type": "code",
      "execution_count": null,
      "metadata": {
        "colab": {
          "base_uri": "https://localhost:8080/"
        },
        "id": "JvD5HHZpSOLM",
        "outputId": "618c0561-fbf0-49e7-9dfb-4e707efd43ac"
      },
      "outputs": [
        {
          "output_type": "stream",
          "name": "stdout",
          "text": [
            "+--------------+------------------------------+------------------+\n",
            "|country_name  |season_title                  |max_weeks_in_top10|\n",
            "+--------------+------------------------------+------------------+\n",
            "|United Kingdom|Stranger Things 4             |13                |\n",
            "|United Kingdom|Stranger Things 3             |12                |\n",
            "|United Kingdom|Ozark: Season 4               |12                |\n",
            "|United Kingdom|Stranger Things 2             |11                |\n",
            "|United Kingdom|Better Call Saul: Season 6    |10                |\n",
            "|United Kingdom|Squid Game: Season 1          |10                |\n",
            "|United Kingdom|Stranger Things               |10                |\n",
            "|United Kingdom|PAW Patrol: Season 6          |9                 |\n",
            "|United Kingdom|Maid: Limited Series          |9                 |\n",
            "|United Kingdom|Bridgerton: Season 2          |9                 |\n",
            "|United Kingdom|Inventing Anna: Limited Series|8                 |\n",
            "|United Kingdom|PIECES OF HER: Season 1       |7                 |\n",
            "|United Kingdom|Money Heist: Part 5           |7                 |\n",
            "|United Kingdom|Sex/Life: Season 1            |7                 |\n",
            "|United Kingdom|You: Season 3                 |6                 |\n",
            "|United Kingdom|Young Sheldon: : Season 2     |6                 |\n",
            "|United Kingdom|Young Sheldon: : Season 1     |6                 |\n",
            "|United Kingdom|Clickbait: Limited Series     |6                 |\n",
            "|United Kingdom|The Lincoln Lawyer: Season 1  |6                 |\n",
            "|United Kingdom|Virgin River: Season 3        |6                 |\n",
            "|United Kingdom|Sex Education: Season 3       |6                 |\n",
            "|United Kingdom|PAW Patrol: Season 4          |6                 |\n",
            "|United Kingdom|Virgin River: Season 4        |5                 |\n",
            "|United Kingdom|The Last Kingdom: Season 5    |5                 |\n",
            "|United Kingdom|Outer Banks: Season 2         |5                 |\n",
            "+--------------+------------------------------+------------------+\n",
            "\n"
          ]
        }
      ],
      "source": [
        "\n",
        "### Produce a dataframe containing the top 25 seasons by number of weeks in the\n",
        "### top 10 of the United Kingdom, sorted by number of weeks. Store the dataframe\n",
        "### in a variable called Top25\n",
        "\n",
        "# Including only the ones in UK\n",
        "tvDF_UK = tvDF.where(F.col('country_name') == 'United Kingdom')\n",
        "\n",
        "# Calculating the number of weeks in the top 10 for each TV season in the UK\n",
        "tvSeasonsWeeksUK = (\n",
        "    tvDF_UK\n",
        "    .groupBy('country_name', 'show_title', 'season_title')\n",
        "    .agg(F.max('cumulative_weeks_in_top_10').alias('weeks_in_top10'))\n",
        ")\n",
        "\n",
        "# Sorting the DataFrame by the total weeks in the Top 10 and limiting to the top 25 entries\n",
        "#In PySpark, the DataFrame class does not have a sortBy method.\n",
        "#I used orderBy instead, which is the correct method in my opinion for sorting a DataFrame\n",
        "Top25 = (\n",
        "    tvSeasonsWeeksUK\n",
        "    .orderBy(F.desc('weeks_in_top10'))\n",
        "    .limit(25)\n",
        "    .groupBy('country_name', 'season_title')  # Group by country_name and season title\n",
        "    .agg(F.max('weeks_in_top10').alias('max_weeks_in_top10'))  # Find the max weeks within each season\n",
        "    .orderBy(F.desc('max_weeks_in_top10'))  # Sort by the max weeks in the Top 10 using sortBy\n",
        ")\n",
        "\n",
        "# Display the result\n",
        "Top25.show(25,truncate=False)\n",
        "\n",
        "\n",
        "\n",
        "\n"
      ]
    },
    {
      "cell_type": "markdown",
      "metadata": {
        "id": "QSLCobP5Tpmp"
      },
      "source": [
        "# Part 4\n",
        "\n",
        "For the show \"Young Sheldon\", find the country where each season spent the most time in the Top 10."
      ]
    },
    {
      "cell_type": "code",
      "execution_count": null,
      "metadata": {
        "colab": {
          "base_uri": "https://localhost:8080/"
        },
        "id": "ocBh6iMbkQ0t",
        "outputId": "d3c30604-fee5-4e92-8c8f-d987a9e6968a"
      },
      "outputs": [
        {
          "output_type": "stream",
          "name": "stdout",
          "text": [
            "+-------------------------+--------------+------------------------------+\n",
            "|season_title             |country_name  |max_cumulative_weeks_in_top_10|\n",
            "+-------------------------+--------------+------------------------------+\n",
            "|Young Sheldon: : Season 1|Canada        |6                             |\n",
            "|Young Sheldon: : Season 2|United Kingdom|6                             |\n",
            "|Young Sheldon: : Season 3|United Kingdom|4                             |\n",
            "|Young Sheldon: Season 4  |New Zealand   |1                             |\n",
            "+-------------------------+--------------+------------------------------+\n",
            "\n"
          ]
        }
      ],
      "source": [
        "\n",
        "### For each season of the show \"Young Sheldon\" find the countries where it spent\n",
        "### the most time in the Top 10\n",
        "\n",
        "# Filter the data for the show \"Young Sheldon\"\n",
        "youngSheldonDF = tvDF.where(F.col('show_title') == 'Young Sheldon')\n",
        "\n",
        "# Define a window specification partitioned by season and ordered by the maximum cumulative weeks in top 10\n",
        "#using this method because the code gets confused in so many season title selections\n",
        "#simplifiying it for understanding of the reader\n",
        "windowSpecYS = Window.partitionBy('season_title').orderBy(F.desc('max_cumulative_weeks_in_top_10'))\n",
        "\n",
        "# Calculating the maximum cumulative weeks in the top 10 for each country for young sheldons all seasons\n",
        "ysAggregatedDF = (\n",
        "    youngSheldonDF\n",
        "    .groupBy('season_title', 'country_name')\n",
        "    .agg(F.max('cumulative_weeks_in_top_10').alias('max_cumulative_weeks_in_top_10'))\n",
        ")\n",
        "\n",
        "# Sorting the DataFrame by the maximum cumulative weeks in the top 10\n",
        "sortedYSDF = ysAggregatedDF.sort('max_cumulative_weeks_in_top_10', ascending=True)\n",
        "\n",
        "\n",
        "resultYSDF = (\n",
        "    sortedYSDF\n",
        "    .withColumn('rank', F.row_number().over(windowSpecYS))\n",
        "    .filter(F.col('rank') == 1)\n",
        "    .drop('rank')\n",
        ")\n",
        "\n",
        "# Display the result\n",
        "resultYSDF.show(truncate=False)\n",
        "\n"
      ]
    },
    {
      "cell_type": "markdown",
      "metadata": {
        "id": "aOi5jbLgTupk"
      },
      "source": [
        "# Part 5\n",
        "\n",
        "For each country, find the film that spent the most time in the Top 10."
      ]
    },
    {
      "cell_type": "code",
      "execution_count": null,
      "metadata": {
        "id": "hYz243A8kkNG",
        "colab": {
          "base_uri": "https://localhost:8080/"
        },
        "outputId": "0361a0f5-d327-497d-ee14-a76ca8f9db42"
      },
      "outputs": [
        {
          "output_type": "stream",
          "name": "stdout",
          "text": [
            "Film that spent the most time in the Top 10 for each country:\n",
            "+------------------+-------------------------------------+------------------------------+\n",
            "|country_name      |show_title                           |max_cumulative_weeks_in_top_10|\n",
            "+------------------+-------------------------------------+------------------------------+\n",
            "|Argentina         |Sonic the Hedgehog                   |7                             |\n",
            "|Australia         |Back to the Outback                  |8                             |\n",
            "|Austria           |Harry Potter and the Sorcerer's Stone|9                             |\n",
            "|Bahamas           |A Madea Homecoming                   |9                             |\n",
            "|Bahrain           |Red Notice                           |8                             |\n",
            "|Bangladesh        |Sooryavanshi                         |21                            |\n",
            "|Belgium           |The Adam Project                     |8                             |\n",
            "|Bolivia           |Shrek                                |18                            |\n",
            "|Brazil            |Hotel Transylvania 3: Summer Vacation|7                             |\n",
            "|Bulgaria          |Red Notice                           |15                            |\n",
            "|Canada            |How the Grinch Stole Christmas       |7                             |\n",
            "|Chile             |Sonic the Hedgehog                   |8                             |\n",
            "|Colombia          |Red Notice                           |12                            |\n",
            "|Costa Rica        |Sonic the Hedgehog                   |10                            |\n",
            "|Croatia           |Red Notice                           |14                            |\n",
            "|Cyprus            |Red Notice                           |12                            |\n",
            "|Czech Republic    |The Secret Life of Pets 2            |14                            |\n",
            "|Denmark           |Red Notice                           |12                            |\n",
            "|Dominican Republic|Red Notice                           |8                             |\n",
            "|Ecuador           |Red Notice                           |9                             |\n",
            "+------------------+-------------------------------------+------------------------------+\n",
            "only showing top 20 rows\n",
            "\n"
          ]
        }
      ],
      "source": [
        "\n",
        "### For each country, find the film that spent the most time in the Top 10\n",
        "### Display the results in a Dataframe ordered by country name.\n",
        "\n",
        "\n",
        "# Grouping by country_name and show_title\n",
        "countryShowGroup = filmsDF.groupBy('country_name', 'show_title')\n",
        "\n",
        "# Calculating the maximum cumulative weeks in the top 10 for each country and show_title\n",
        "cumulativeWeeksDF = countryShowGroup.agg(F.max('cumulative_weeks_in_top_10').alias('max_cumulative_weeks_in_top_10'))\n",
        "\n",
        "# Sorting the DataFrame by the maximum cumulative weeks in the top 10\n",
        "sortedCumulativeWeeksDF = cumulativeWeeksDF.sort('max_cumulative_weeks_in_top_10', ascending=True)\n",
        "\n",
        "\n",
        "countryWindowSpec = Window.partitionBy('country_name').orderBy(F.desc('max_cumulative_weeks_in_top_10'))\n",
        "\n",
        "# Adding a row number to each row within the window\n",
        "rankedFilmsDF = (\n",
        "    sortedCumulativeWeeksDF\n",
        "    .withColumn('rank', F.row_number().over(countryWindowSpec))\n",
        "    .filter(F.col('rank') == 1)\n",
        "    .select('country_name', 'show_title', 'max_cumulative_weeks_in_top_10')\n",
        "    .orderBy('country_name', 'show_title')\n",
        ")\n",
        "\n",
        "# Display the result\n",
        "print(\"Film that spent the most time in the Top 10 for each country:\")\n",
        "rankedFilmsDF.show(truncate=False)\n",
        "\n",
        "\n",
        "\n"
      ]
    },
    {
      "cell_type": "markdown",
      "metadata": {
        "id": "_YOKr4khadrB"
      },
      "source": [
        "# Part 6\n",
        "\n",
        "Calculate the number of weeks each film spent at the number 1 spot of each country's Top 10 list. Then find the films that spent the most time in the number 1 spot for each country."
      ]
    },
    {
      "cell_type": "code",
      "execution_count": null,
      "metadata": {
        "id": "T4KuEbwgbJar",
        "colab": {
          "base_uri": "https://localhost:8080/"
        },
        "outputId": "74ca3f0d-e8c3-4e81-e83d-57c7a625ec0d"
      },
      "outputs": [
        {
          "output_type": "stream",
          "name": "stdout",
          "text": [
            "+------------+------------+-------------------+--------+-----------+--------------------+--------------------------+----------+\n",
            "|country_name|country_iso2|               week|category|weekly_rank|          show_title|cumulative_weeks_in_top_10|weeks_at_1|\n",
            "+------------+------------+-------------------+--------+-----------+--------------------+--------------------------+----------+\n",
            "|   Argentina|          AR|2022-08-21 00:00:00|   Films|          1|      Look Both Ways|                         1|         1|\n",
            "|   Argentina|          AR|2022-08-21 00:00:00|   Films|          2|           Day Shift|                         2|         0|\n",
            "|   Argentina|          AR|2022-08-21 00:00:00|   Films|          3|Bank Robbers: The...|                         2|         0|\n",
            "|   Argentina|          AR|2022-08-21 00:00:00|   Films|          4|   The Next 365 Days|                         1|         0|\n",
            "|   Argentina|          AR|2022-08-21 00:00:00|   Films|          5|The Angry Birds M...|                         1|         0|\n",
            "|   Argentina|          AR|2022-08-21 00:00:00|   Films|          6|       Purple Hearts|                         4|         0|\n",
            "|   Argentina|          AR|2022-08-21 00:00:00|   Films|          7|      River Runs Red|                         1|         0|\n",
            "|   Argentina|          AR|2022-08-21 00:00:00|   Films|          8|                1917|                         2|         0|\n",
            "|   Argentina|          AR|2022-08-21 00:00:00|   Films|          9|  Code Name: Emperor|                         2|         0|\n",
            "|   Argentina|          AR|2022-08-21 00:00:00|   Films|         10|           Royalteen|                         1|         0|\n",
            "|   Argentina|          AR|2022-08-14 00:00:00|   Films|          1|Bank Robbers: The...|                         1|         1|\n",
            "|   Argentina|          AR|2022-08-14 00:00:00|   Films|          2|       Purple Hearts|                         3|         0|\n",
            "|   Argentina|          AR|2022-08-14 00:00:00|   Films|          3|                1917|                         1|         0|\n",
            "|   Argentina|          AR|2022-08-14 00:00:00|   Films|          4|           Day Shift|                         1|         0|\n",
            "|   Argentina|          AR|2022-08-14 00:00:00|   Films|          5|  Code Name: Emperor|                         1|         0|\n",
            "|   Argentina|          AR|2022-08-14 00:00:00|   Films|          6|              Carter|                         2|         0|\n",
            "|   Argentina|          AR|2022-08-14 00:00:00|   Films|          7|          Recurrence|                         3|         0|\n",
            "|   Argentina|          AR|2022-08-14 00:00:00|   Films|          8|      Wedding Season|                         2|         0|\n",
            "|   Argentina|          AR|2022-08-14 00:00:00|   Films|          9|        Dreamkatcher|                         1|         0|\n",
            "|   Argentina|          AR|2022-08-14 00:00:00|   Films|         10|        The Gray Man|                         4|         0|\n",
            "+------------+------------+-------------------+--------+-----------+--------------------+--------------------------+----------+\n",
            "only showing top 20 rows\n",
            "\n"
          ]
        }
      ],
      "source": [
        "\n",
        "\n",
        "### Create a column using the F.when function to calculate the number of weeks a\n",
        "### films spens in the number 1 spot of the Top 10. Use the .otherwise method to\n",
        "### set rows with no number 1 spots to zero. Use the .alias metod to call this\n",
        "### column \"weeks_at_1\"\n",
        "\n",
        "FilmsDF = filmsDF.withColumn('weeks_at_1',\n",
        "                             F.when(F.col('weekly_rank') == 1, 1)\n",
        "                             .otherwise(0)\n",
        "                             .alias(\"weeks_at_1\")\n",
        "                           )\n",
        "\n",
        "FilmsDF.show()\n"
      ]
    },
    {
      "cell_type": "code",
      "execution_count": null,
      "metadata": {
        "id": "3bmaFJryC5ub",
        "colab": {
          "base_uri": "https://localhost:8080/"
        },
        "outputId": "f8d2f74e-98cb-4411-d421-d2fafbddfcaf"
      },
      "outputs": [
        {
          "output_type": "stream",
          "name": "stdout",
          "text": [
            "+------------+-------------------+----------------+\n",
            "|country_name|         show_title|total_weeks_at_1|\n",
            "+------------+-------------------+----------------+\n",
            "|      Russia|      Don't Look Up|               6|\n",
            "|   Hong Kong|      Don't Look Up|               6|\n",
            "|      Taiwan|      Don't Look Up|               5|\n",
            "|      Taiwan|Gangubai Kathiawadi|               5|\n",
            "|     Vietnam|         Red Notice|               5|\n",
            "|      Israel|The Tinder Swindler|               4|\n",
            "|     Estonia|      Don't Look Up|               4|\n",
            "|  Bangladesh|    Haseen Dillruba|               4|\n",
            "|     Ukraine|The Tinder Swindler|               4|\n",
            "|     Vietnam|      Don't Look Up|               4|\n",
            "|     Croatia|The Tinder Swindler|               4|\n",
            "|    Bulgaria|         Red Notice|               4|\n",
            "|       India|    Haseen Dillruba|               4|\n",
            "|      Jordan|         Red Notice|               4|\n",
            "|      Russia|The Tinder Swindler|               4|\n",
            "|    Slovenia|      Don't Look Up|               4|\n",
            "|    Pakistan|    Haseen Dillruba|               4|\n",
            "|     Denmark|The Tinder Swindler|               4|\n",
            "|     Estonia|The Tinder Swindler|               4|\n",
            "| Netherlands|The Tinder Swindler|               4|\n",
            "+------------+-------------------+----------------+\n",
            "only showing top 20 rows\n",
            "\n"
          ]
        }
      ],
      "source": [
        "\n",
        "\n",
        "### Group by country name and show title, and use the .agg method and your new\n",
        "### column to find the number of weeks each film spent in the top spot for each\n",
        "### country.\n",
        "# Group by show title and country name\n",
        "filmsTopSpotDF = (\n",
        "    filmsDF\n",
        "    .groupBy('country_name', 'show_title')\n",
        "    .agg(F.sum('weeks_at_1').alias('total_weeks_at_1'))\n",
        "    .orderBy(F.desc('total_weeks_at_1'))\n",
        ")\n",
        "\n",
        "filmsTopSpotDF.show()\n",
        "\n",
        "\n"
      ]
    },
    {
      "cell_type": "code",
      "execution_count": null,
      "metadata": {
        "id": "9apP6VYfTBU-",
        "colab": {
          "base_uri": "https://localhost:8080/"
        },
        "outputId": "4873a123-18ca-420c-fb51-4703e93b85f7"
      },
      "outputs": [
        {
          "output_type": "stream",
          "name": "stdout",
          "text": [
            "+------------------+-----------------+\n",
            "|      country_name|first(show_title)|\n",
            "+------------------+-----------------+\n",
            "|         Argentina|   Look Both Ways|\n",
            "|         Australia|        Day Shift|\n",
            "|           Austria|        Day Shift|\n",
            "|           Bahamas|        Day Shift|\n",
            "|           Bahrain|        Day Shift|\n",
            "|        Bangladesh|          Nikamma|\n",
            "|           Belgium|        Day Shift|\n",
            "|           Bolivia|   Look Both Ways|\n",
            "|            Brazil|The Next 365 Days|\n",
            "|          Bulgaria|The Next 365 Days|\n",
            "|            Canada|        Day Shift|\n",
            "|             Chile|   Look Both Ways|\n",
            "|          Colombia|        Day Shift|\n",
            "|        Costa Rica|   Look Both Ways|\n",
            "|           Croatia|   Look Both Ways|\n",
            "|            Cyprus|The Next 365 Days|\n",
            "|    Czech Republic|          Jackpot|\n",
            "|           Denmark|        Day Shift|\n",
            "|Dominican Republic|The Next 365 Days|\n",
            "|           Ecuador|   Look Both Ways|\n",
            "+------------------+-----------------+\n",
            "only showing top 20 rows\n",
            "\n"
          ]
        }
      ],
      "source": [
        "\n",
        "\n",
        "### Produce a dataframe grouped by country name that contains the show title and\n",
        "### number of weeks at the number 1 spot of the top performing film in each\n",
        "### country.\n",
        "\n",
        "FilmsDF = filmsDF.groupBy('country_name') \\\n",
        "                 .agg(F.first('show_title'), F.sum('weeks_at_1'))\\\n",
        "                 .drop('sum(weeks_at_1)')\n",
        "\n",
        "FilmsDF.show()"
      ]
    },
    {
      "cell_type": "code",
      "source": [
        "\n"
      ],
      "metadata": {
        "id": "o_sCWKqJ6Zqx"
      },
      "execution_count": null,
      "outputs": []
    },
    {
      "cell_type": "code",
      "source": [],
      "metadata": {
        "id": "Q041D5EUcHrm"
      },
      "execution_count": null,
      "outputs": []
    }
  ],
  "metadata": {
    "colab": {
      "provenance": []
    },
    "kernelspec": {
      "display_name": "Python 3",
      "name": "python3"
    },
    "language_info": {
      "name": "python"
    }
  },
  "nbformat": 4,
  "nbformat_minor": 0
}